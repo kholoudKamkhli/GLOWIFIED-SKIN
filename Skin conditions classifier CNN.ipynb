{
 "cells": [
  {
   "cell_type": "code",
   "execution_count": 1,
   "metadata": {
    "id": "ZkclPOMOs6eo"
   },
   "outputs": [],
   "source": [
    "import os\n",
    "import zipfile\n",
    "import random\n",
    "import shutil\n",
    "import tensorflow as tf\n",
    "from tensorflow.keras.preprocessing.image import ImageDataGenerator\n",
    "from shutil import copyfile\n",
    "from tensorflow import keras\n",
    "import matplotlib.pyplot as plt"
   ]
  },
  {
   "cell_type": "code",
   "execution_count": 2,
   "metadata": {
    "colab": {
     "base_uri": "https://localhost:8080/"
    },
    "id": "vnhPRagXk21K",
    "outputId": "547f4409-9e28-4684-b256-cc27ad25b892"
   },
   "outputs": [
    {
     "name": "stdout",
     "output_type": "stream",
     "text": [
      "There are 250 images of acnes.\n",
      "There are 250 images of blackheads.\n",
      "There are 250 images of darkspots.\n",
      "There are 246 images of wrinkles.\n"
     ]
    }
   ],
   "source": [
    "source = 'C:/Users/Kholoud/Desktop/jupyter notebook/SkinMate-Dataset-20240630T095515Z-001/SkinMate-Dataset'\n",
    "sourceAcnes = os.path.join(source, 'acnes')\n",
    "sourceBlackheads = os.path.join(source, 'blackheads')\n",
    "sourceDarkSpots = os.path.join(source, 'darkspots')\n",
    "sourceWrinkles = os.path.join(source, 'wrinkles')\n",
    "\n",
    "print(f\"There are {len(os.listdir(sourceAcnes))} images of acnes.\")\n",
    "print(f\"There are {len(os.listdir(sourceBlackheads))} images of blackheads.\")\n",
    "print(f\"There are {len(os.listdir(sourceDarkSpots))} images of darkspots.\")\n",
    "print(f\"There are {len(os.listdir(sourceWrinkles))} images of wrinkles.\")"
   ]
  },
  {
   "cell_type": "code",
   "execution_count": 3,
   "metadata": {
    "id": "l9uwc9URBIR9"
   },
   "outputs": [],
   "source": [
    "import os\n",
    "import shutil\n",
    "\n",
    "# Define root directory\n",
    "root_dir = 'C:/Users/Kholoud/Desktop/jupyter notebook/SkinMatee'\n",
    "\n",
    "# Empty directory to prevent FileExistsError if the function is run several times\n",
    "if os.path.exists(root_dir):\n",
    "    shutil.rmtree(root_dir)\n",
    "\n",
    "# Create train and validation directories\n",
    "def create_train_val_dirs(root_path):\n",
    "    # train and validation directories for skin-case\n",
    "    train_dir = os.path.join(root_dir, 'training')\n",
    "    os.makedirs(train_dir, exist_ok=True)\n",
    "    val_dir = os.path.join(root_dir, 'validation')\n",
    "    os.makedirs(val_dir, exist_ok=True)\n",
    "\n",
    "    # train directories for acnes\n",
    "    train_acnes_dir = os.path.join(train_dir, 'acnes')\n",
    "    os.makedirs(train_acnes_dir, exist_ok=True)\n",
    "    # train directories for blackheads\n",
    "    train_blackheads_dir = os.path.join(train_dir, 'blackheads')\n",
    "    os.makedirs(train_blackheads_dir, exist_ok=True)\n",
    "    # train directories for darkspots\n",
    "    train_darkspots_dir = os.path.join(train_dir, 'darkspots')\n",
    "    os.makedirs(train_darkspots_dir, exist_ok=True)\n",
    "    # train directories for wrinkles\n",
    "    train_wrinkles_dir = os.path.join(train_dir, 'wrinkles')\n",
    "    os.makedirs(train_wrinkles_dir, exist_ok=True)\n",
    "\n",
    "    # validation directories for acnes\n",
    "    val_acnes_dir = os.path.join(val_dir, 'acnes')\n",
    "    os.makedirs(val_acnes_dir, exist_ok=True)\n",
    "    # validation directories for blackheads\n",
    "    val_blackheads_dir = os.path.join(val_dir, 'blackheads')\n",
    "    os.makedirs(val_blackheads_dir, exist_ok=True)\n",
    "    # validation directories for darkspots\n",
    "    val_darkspots_dir = os.path.join(val_dir, 'darkspots')\n",
    "    os.makedirs(val_darkspots_dir, exist_ok=True)\n",
    "    # validation directories for wrinkles\n",
    "    val_wrinkles_dir = os.path.join(val_dir, 'wrinkles')\n",
    "    os.makedirs(val_wrinkles_dir, exist_ok=True)\n",
    "\n",
    "try:\n",
    "    create_train_val_dirs(root_path=root_dir)\n",
    "except FileExistsError:\n",
    "    print(\"You should not be seeing this since the upper directory is removed beforehand\")\n",
    "\n",
    "# Print all directories\n",
    "#for rootdir, dirs, files in os.walk(root_dir):\n",
    "#    for subdir in dirs:\n",
    "#        print(os.path.join(rootdir, subdir))"
   ]
  },
  {
   "cell_type": "code",
   "execution_count": 4,
   "metadata": {
    "id": "azYuowBqdF5m"
   },
   "outputs": [],
   "source": [
    "def split_data(SOURCE_DIR, TRAINING_DIR, VALIDATION_DIR, SPLIT_SIZE):\n",
    "  files = []\n",
    "  for filename in os.listdir(SOURCE_DIR):\n",
    "    file = SOURCE_DIR + filename\n",
    "    if os.path.getsize(file) > 0:\n",
    "      files.append(filename)\n",
    "    else:\n",
    "      print(filename + ' is zero length, so ignoring.')\n",
    "\n",
    "    all_files = len(files)\n",
    "    train_length = int(all_files * SPLIT_SIZE)\n",
    "    test_length = int(all_files - train_length)\n",
    "    shuffled = random.sample(files, all_files)\n",
    "    train_set = shuffled[0:train_length]\n",
    "    test_set = shuffled[train_length:]\n",
    "\n",
    "  for filename in train_set:\n",
    "    src_file = SOURCE_DIR + filename\n",
    "    dest_file = TRAINING_DIR + filename\n",
    "    copyfile(src_file, dest_file)\n",
    "\n",
    "  for filename in test_set:\n",
    "    src_file = SOURCE_DIR + filename\n",
    "    dest_file = VALIDATION_DIR + filename\n",
    "    copyfile(src_file, dest_file)\n",
    "\n",
    "  pass"
   ]
  },
  {
   "cell_type": "code",
   "execution_count": 5,
   "metadata": {
    "id": "BZxvS6uucZE6"
   },
   "outputs": [],
   "source": [
    "# Test your split_data function\n",
    "\n",
    "# Define paths\n",
    "ACNES_SOURCE_DIR = \"C:/Users/Kholoud/Desktop/jupyter notebook/SkinMate-Dataset-20240630T095515Z-001/SkinMate-Dataset/acnes/\"\n",
    "BLACKHEADS_SOURCE_DIR = \"C:/Users/Kholoud/Desktop/jupyter notebook/SkinMate-Dataset-20240630T095515Z-001/SkinMate-Dataset/blackheads/\"\n",
    "DARKSPOTS_SOURCE_DIR = \"C:/Users/Kholoud/Desktop/jupyter notebook/SkinMate-Dataset-20240630T095515Z-001/SkinMate-Dataset/darkspots/\"\n",
    "WRINKLES_SOURCE_DIR = \"C:/Users/Kholoud/Desktop/jupyter notebook/SkinMate-Dataset-20240630T095515Z-001/SkinMate-Dataset/wrinkles/\"\n",
    "\n",
    "TRAINING_DIR = \"C:/Users/Kholoud/Desktop/jupyter notebook/SkinMatee/training\"\n",
    "VALIDATION_DIR = \"C:/Users/Kholoud/Desktop/jupyter notebook/SkinMatee/validation\"\n",
    "\n",
    "TRAINING_ACNES_DIR = os.path.join(TRAINING_DIR, \"acnes/\")\n",
    "VALIDATION_ACNES_DIR = os.path.join(VALIDATION_DIR, \"acnes/\")\n",
    "\n",
    "TRAINING_BLACKHEADS_DIR = os.path.join(TRAINING_DIR, \"blackheads/\")\n",
    "VALIDATION_BLACKHEADS_DIR = os.path.join(VALIDATION_DIR, \"blackheads/\")\n",
    "\n",
    "TRAINING_DARKSPOTS_DIR = os.path.join(TRAINING_DIR, \"darkspots/\")\n",
    "VALIDATION_DARKSPOTS_DIR = os.path.join(VALIDATION_DIR, \"darkspots/\")\n",
    "\n",
    "TRAINING_WRINKLES_DIR = os.path.join(TRAINING_DIR, \"wrinkles/\")\n",
    "VALIDATION_WRINKLES_DIR = os.path.join(VALIDATION_DIR, \"wrinkles/\")\n",
    "\n",
    "# Empty directories in case you run this cell multiple times\n",
    "if len(os.listdir(TRAINING_WRINKLES_DIR)) > 0:\n",
    "  for file in os.scandir(TRAINING_WRINKLES_DIR):\n",
    "    os.remove(file.path)\n",
    "\n",
    "if len(os.listdir(VALIDATION_WRINKLES_DIR)) > 0:\n",
    "  for file in os.scandir(VALIDATION_WRINKLES_DIR):\n",
    "    os.remove(file.path)\n",
    "\n",
    "# Define proportion of images used for training\n",
    "split_size = .8\n"
   ]
  },
  {
   "cell_type": "code",
   "execution_count": 6,
   "metadata": {
    "colab": {
     "base_uri": "https://localhost:8080/"
    },
    "id": "6CrsEhiQ2REI",
    "outputId": "3b507a39-4589-46d1-c1a1-1e8e9515f336"
   },
   "outputs": [
    {
     "name": "stdout",
     "output_type": "stream",
     "text": [
      "\n",
      "\n",
      "Original acne's directory has 250 images\n",
      "\n",
      "\n",
      "Original blackhead's directory has 250 images\n",
      "\n",
      "\n",
      "Original darkspot's directory has 250 images\n",
      "\n",
      "\n",
      "Original winkle's directory has 246 images\n",
      "\n",
      "\n",
      "There are 200 images of acnes for training\n",
      "\n",
      "\n",
      "There are 50 images of acnes for validation\n",
      "\n",
      "\n",
      "There are 200 images of blackheads for training\n",
      "\n",
      "\n",
      "There are 50 images of blackheads for validation\n",
      "\n",
      "\n",
      "There are 200 images of darkspots for training\n",
      "\n",
      "\n",
      "There are 50 images of darkspots for validation\n",
      "\n",
      "\n",
      "There are 196 images of wrinkles for training\n",
      "\n",
      "\n",
      "There are 50 images of wrinkles for validation\n"
     ]
    }
   ],
   "source": [
    "# Run the function\n",
    "# NOTE: Messages about zero length images should be printed out\n",
    "split_data(ACNES_SOURCE_DIR, TRAINING_ACNES_DIR, VALIDATION_ACNES_DIR, split_size)\n",
    "split_data(BLACKHEADS_SOURCE_DIR, TRAINING_BLACKHEADS_DIR, VALIDATION_BLACKHEADS_DIR, split_size)\n",
    "split_data(DARKSPOTS_SOURCE_DIR, TRAINING_DARKSPOTS_DIR, VALIDATION_DARKSPOTS_DIR, split_size)\n",
    "split_data(WRINKLES_SOURCE_DIR, TRAINING_WRINKLES_DIR, VALIDATION_WRINKLES_DIR, split_size)\n",
    "\n",
    "print(f\"\\n\\nOriginal acne's directory has {len(os.listdir(ACNES_SOURCE_DIR))} images\")\n",
    "print(f\"\\n\\nOriginal blackhead's directory has {len(os.listdir(BLACKHEADS_SOURCE_DIR))} images\")\n",
    "print(f\"\\n\\nOriginal darkspot's directory has {len(os.listdir(DARKSPOTS_SOURCE_DIR))} images\")\n",
    "print(f\"\\n\\nOriginal winkle's directory has {len(os.listdir(WRINKLES_SOURCE_DIR))} images\")\n",
    "print(f\"\\n\\nThere are {len(os.listdir(TRAINING_ACNES_DIR))} images of acnes for training\")\n",
    "print(f\"\\n\\nThere are {len(os.listdir(VALIDATION_ACNES_DIR))} images of acnes for validation\")\n",
    "print(f\"\\n\\nThere are {len(os.listdir(TRAINING_BLACKHEADS_DIR))} images of blackheads for training\")\n",
    "print(f\"\\n\\nThere are {len(os.listdir(VALIDATION_BLACKHEADS_DIR))} images of blackheads for validation\")\n",
    "print(f\"\\n\\nThere are {len(os.listdir(TRAINING_DARKSPOTS_DIR))} images of darkspots for training\")\n",
    "print(f\"\\n\\nThere are {len(os.listdir(VALIDATION_DARKSPOTS_DIR))} images of darkspots for validation\")\n",
    "print(f\"\\n\\nThere are {len(os.listdir(TRAINING_WRINKLES_DIR))} images of wrinkles for training\")\n",
    "print(f\"\\n\\nThere are {len(os.listdir(VALIDATION_WRINKLES_DIR))} images of wrinkles for validation\")"
   ]
  },
  {
   "cell_type": "code",
   "execution_count": 7,
   "metadata": {
    "id": "cu0Cq9Wi_wrn"
   },
   "outputs": [],
   "source": [
    "def train_val_generators(TRAINING_DIR, VALIDATION_DIR):\n",
    "  # Instantiate the ImageDataGenerator class \n",
    "  train_datagen = ImageDataGenerator(rescale=1./255.,\n",
    "                                     rotation_range=40,\n",
    "                                     width_shift_range=0.2,\n",
    "                                     height_shift_range=0.2,\n",
    "                                     shear_range=0.2,\n",
    "                                     zoom_range=0.2,\n",
    "                                     horizontal_flip=True,\n",
    "                                     fill_mode='nearest')\n",
    "\n",
    "  # Pass in the appropriate arguments to the flow_from_directory method\n",
    "  train_generator = train_datagen.flow_from_directory(directory=TRAINING_DIR,\n",
    "                                                      batch_size=32,\n",
    "                                                      class_mode='categorical',\n",
    "                                                      target_size=(150, 150))\n",
    "\n",
    "  # Instantiate the ImageDataGenerator class (don't forget to set the rescale argument)\n",
    "  validation_datagen = ImageDataGenerator(rescale=1./255.)\n",
    "\n",
    "  # Pass in the appropriate arguments to the flow_from_directory method\n",
    "  validation_generator = validation_datagen.flow_from_directory(directory=VALIDATION_DIR,\n",
    "                                                                batch_size=32,\n",
    "                                                                class_mode='categorical',\n",
    "                                                                target_size=(150, 150))\n",
    "  ### END CODE HERE\n",
    "  return train_generator, validation_generator"
   ]
  },
  {
   "cell_type": "code",
   "execution_count": 8,
   "metadata": {
    "colab": {
     "base_uri": "https://localhost:8080/"
    },
    "id": "ZHelvmASFctG",
    "outputId": "2ad96817-ba5e-4584-edd9-857d24b7b9d1"
   },
   "outputs": [
    {
     "name": "stdout",
     "output_type": "stream",
     "text": [
      "Found 796 images belonging to 4 classes.\n",
      "Found 200 images belonging to 4 classes.\n"
     ]
    }
   ],
   "source": [
    "# Test your generators\n",
    "train_generator, validation_generator = train_val_generators(TRAINING_DIR, VALIDATION_DIR)"
   ]
  },
  {
   "cell_type": "code",
   "execution_count": 9,
   "metadata": {
    "id": "Toz7o1iwCcdO"
   },
   "outputs": [],
   "source": [
    "# Define a Callback class that stops training once accuracy reaches 90.0%\n",
    "class myCallback(tf.keras.callbacks.Callback):\n",
    "  def on_epoch_end(self, epoch, logs={}):\n",
    "    if(logs.get('val_acc')>=0.85):\n",
    "      print(\"\\nReached 91.0% accuracy so cancelling training!\")\n",
    "      self.model.stop_training = True"
   ]
  },
  {
   "cell_type": "code",
   "execution_count": 10,
   "metadata": {
    "id": "qN95KqkcB7Oa"
   },
   "outputs": [],
   "source": [
    "\n",
    "def create_model():\n",
    "\n",
    "  model = tf.keras.models.Sequential([\n",
    "      # Conv2D and MaxPooling2D layers\n",
    "      tf.keras.layers.Conv2D(16, (3,3), activation='relu', input_shape=(150,150,3)),\n",
    "      tf.keras.layers.MaxPooling2D(2,2),\n",
    "\n",
    "      tf.keras.layers.Conv2D(32, (3,3), activation='relu'),\n",
    "      tf.keras.layers.MaxPooling2D(2,2),\n",
    "\n",
    "      tf.keras.layers.Conv2D(64, (3,3), activation='relu'),\n",
    "      tf.keras.layers.MaxPooling2D(2,2),\n",
    "\n",
    "      tf.keras.layers.Flatten(),\n",
    "\n",
    "      tf.keras.layers.Dense(512, activation='relu'),\n",
    "      tf.keras.layers.Dense(64, activation='relu'),\n",
    "      tf.keras.layers.Dense(4, activation='sigmoid')\n",
    "  ])\n",
    "\n",
    "\n",
    "  model.compile(optimizer=tf.keras.optimizers.Adam(learning_rate=0.001),\n",
    "                loss='binary_crossentropy',\n",
    "                metrics=['acc'])\n",
    "\n",
    "  return model"
   ]
  },
  {
   "cell_type": "code",
   "execution_count": 11,
   "metadata": {
    "colab": {
     "base_uri": "https://localhost:8080/"
    },
    "id": "WmtOu9kyFMV4",
    "outputId": "8efefbea-1819-41d9-bb64-c11d9f11f2c5"
   },
   "outputs": [
    {
     "name": "stderr",
     "output_type": "stream",
     "text": [
      "C:\\Users\\Kholoud\\AppData\\Local\\Programs\\Python\\Python310\\lib\\site-packages\\keras\\src\\layers\\convolutional\\base_conv.py:99: UserWarning: Do not pass an `input_shape`/`input_dim` argument to a layer. When using Sequential models, prefer using an `Input(shape)` object as the first layer in the model instead.\n",
      "  super().__init__(\n"
     ]
    },
    {
     "data": {
      "text/html": [
       "<pre style=\"white-space:pre;overflow-x:auto;line-height:normal;font-family:Menlo,'DejaVu Sans Mono',consolas,'Courier New',monospace\"><span style=\"font-weight: bold\">Model: \"sequential\"</span>\n",
       "</pre>\n"
      ],
      "text/plain": [
       "\u001b[1mModel: \"sequential\"\u001b[0m\n"
      ]
     },
     "metadata": {},
     "output_type": "display_data"
    },
    {
     "data": {
      "text/html": [
       "<pre style=\"white-space:pre;overflow-x:auto;line-height:normal;font-family:Menlo,'DejaVu Sans Mono',consolas,'Courier New',monospace\">┏━━━━━━━━━━━━━━━━━━━━━━━━━━━━━━━━━━━━┳━━━━━━━━━━━━━━━━━━━━━━━━━━━━━━━┳━━━━━━━━━━━━━┓\n",
       "┃<span style=\"font-weight: bold\"> Layer (type)                       </span>┃<span style=\"font-weight: bold\"> Output Shape                  </span>┃<span style=\"font-weight: bold\">     Param # </span>┃\n",
       "┡━━━━━━━━━━━━━━━━━━━━━━━━━━━━━━━━━━━━╇━━━━━━━━━━━━━━━━━━━━━━━━━━━━━━━╇━━━━━━━━━━━━━┩\n",
       "│ conv2d (<span style=\"color: #0087ff; text-decoration-color: #0087ff\">Conv2D</span>)                    │ (<span style=\"color: #00d7ff; text-decoration-color: #00d7ff\">None</span>, <span style=\"color: #00af00; text-decoration-color: #00af00\">148</span>, <span style=\"color: #00af00; text-decoration-color: #00af00\">148</span>, <span style=\"color: #00af00; text-decoration-color: #00af00\">16</span>)          │         <span style=\"color: #00af00; text-decoration-color: #00af00\">448</span> │\n",
       "├────────────────────────────────────┼───────────────────────────────┼─────────────┤\n",
       "│ max_pooling2d (<span style=\"color: #0087ff; text-decoration-color: #0087ff\">MaxPooling2D</span>)       │ (<span style=\"color: #00d7ff; text-decoration-color: #00d7ff\">None</span>, <span style=\"color: #00af00; text-decoration-color: #00af00\">74</span>, <span style=\"color: #00af00; text-decoration-color: #00af00\">74</span>, <span style=\"color: #00af00; text-decoration-color: #00af00\">16</span>)            │           <span style=\"color: #00af00; text-decoration-color: #00af00\">0</span> │\n",
       "├────────────────────────────────────┼───────────────────────────────┼─────────────┤\n",
       "│ conv2d_1 (<span style=\"color: #0087ff; text-decoration-color: #0087ff\">Conv2D</span>)                  │ (<span style=\"color: #00d7ff; text-decoration-color: #00d7ff\">None</span>, <span style=\"color: #00af00; text-decoration-color: #00af00\">72</span>, <span style=\"color: #00af00; text-decoration-color: #00af00\">72</span>, <span style=\"color: #00af00; text-decoration-color: #00af00\">32</span>)            │       <span style=\"color: #00af00; text-decoration-color: #00af00\">4,640</span> │\n",
       "├────────────────────────────────────┼───────────────────────────────┼─────────────┤\n",
       "│ max_pooling2d_1 (<span style=\"color: #0087ff; text-decoration-color: #0087ff\">MaxPooling2D</span>)     │ (<span style=\"color: #00d7ff; text-decoration-color: #00d7ff\">None</span>, <span style=\"color: #00af00; text-decoration-color: #00af00\">36</span>, <span style=\"color: #00af00; text-decoration-color: #00af00\">36</span>, <span style=\"color: #00af00; text-decoration-color: #00af00\">32</span>)            │           <span style=\"color: #00af00; text-decoration-color: #00af00\">0</span> │\n",
       "├────────────────────────────────────┼───────────────────────────────┼─────────────┤\n",
       "│ conv2d_2 (<span style=\"color: #0087ff; text-decoration-color: #0087ff\">Conv2D</span>)                  │ (<span style=\"color: #00d7ff; text-decoration-color: #00d7ff\">None</span>, <span style=\"color: #00af00; text-decoration-color: #00af00\">34</span>, <span style=\"color: #00af00; text-decoration-color: #00af00\">34</span>, <span style=\"color: #00af00; text-decoration-color: #00af00\">64</span>)            │      <span style=\"color: #00af00; text-decoration-color: #00af00\">18,496</span> │\n",
       "├────────────────────────────────────┼───────────────────────────────┼─────────────┤\n",
       "│ max_pooling2d_2 (<span style=\"color: #0087ff; text-decoration-color: #0087ff\">MaxPooling2D</span>)     │ (<span style=\"color: #00d7ff; text-decoration-color: #00d7ff\">None</span>, <span style=\"color: #00af00; text-decoration-color: #00af00\">17</span>, <span style=\"color: #00af00; text-decoration-color: #00af00\">17</span>, <span style=\"color: #00af00; text-decoration-color: #00af00\">64</span>)            │           <span style=\"color: #00af00; text-decoration-color: #00af00\">0</span> │\n",
       "├────────────────────────────────────┼───────────────────────────────┼─────────────┤\n",
       "│ flatten (<span style=\"color: #0087ff; text-decoration-color: #0087ff\">Flatten</span>)                  │ (<span style=\"color: #00d7ff; text-decoration-color: #00d7ff\">None</span>, <span style=\"color: #00af00; text-decoration-color: #00af00\">18496</span>)                 │           <span style=\"color: #00af00; text-decoration-color: #00af00\">0</span> │\n",
       "├────────────────────────────────────┼───────────────────────────────┼─────────────┤\n",
       "│ dense (<span style=\"color: #0087ff; text-decoration-color: #0087ff\">Dense</span>)                      │ (<span style=\"color: #00d7ff; text-decoration-color: #00d7ff\">None</span>, <span style=\"color: #00af00; text-decoration-color: #00af00\">512</span>)                   │   <span style=\"color: #00af00; text-decoration-color: #00af00\">9,470,464</span> │\n",
       "├────────────────────────────────────┼───────────────────────────────┼─────────────┤\n",
       "│ dense_1 (<span style=\"color: #0087ff; text-decoration-color: #0087ff\">Dense</span>)                    │ (<span style=\"color: #00d7ff; text-decoration-color: #00d7ff\">None</span>, <span style=\"color: #00af00; text-decoration-color: #00af00\">64</span>)                    │      <span style=\"color: #00af00; text-decoration-color: #00af00\">32,832</span> │\n",
       "├────────────────────────────────────┼───────────────────────────────┼─────────────┤\n",
       "│ dense_2 (<span style=\"color: #0087ff; text-decoration-color: #0087ff\">Dense</span>)                    │ (<span style=\"color: #00d7ff; text-decoration-color: #00d7ff\">None</span>, <span style=\"color: #00af00; text-decoration-color: #00af00\">4</span>)                     │         <span style=\"color: #00af00; text-decoration-color: #00af00\">260</span> │\n",
       "└────────────────────────────────────┴───────────────────────────────┴─────────────┘\n",
       "</pre>\n"
      ],
      "text/plain": [
       "┏━━━━━━━━━━━━━━━━━━━━━━━━━━━━━━━━━━━━┳━━━━━━━━━━━━━━━━━━━━━━━━━━━━━━━┳━━━━━━━━━━━━━┓\n",
       "┃\u001b[1m \u001b[0m\u001b[1mLayer (type)                      \u001b[0m\u001b[1m \u001b[0m┃\u001b[1m \u001b[0m\u001b[1mOutput Shape                 \u001b[0m\u001b[1m \u001b[0m┃\u001b[1m \u001b[0m\u001b[1m    Param #\u001b[0m\u001b[1m \u001b[0m┃\n",
       "┡━━━━━━━━━━━━━━━━━━━━━━━━━━━━━━━━━━━━╇━━━━━━━━━━━━━━━━━━━━━━━━━━━━━━━╇━━━━━━━━━━━━━┩\n",
       "│ conv2d (\u001b[38;5;33mConv2D\u001b[0m)                    │ (\u001b[38;5;45mNone\u001b[0m, \u001b[38;5;34m148\u001b[0m, \u001b[38;5;34m148\u001b[0m, \u001b[38;5;34m16\u001b[0m)          │         \u001b[38;5;34m448\u001b[0m │\n",
       "├────────────────────────────────────┼───────────────────────────────┼─────────────┤\n",
       "│ max_pooling2d (\u001b[38;5;33mMaxPooling2D\u001b[0m)       │ (\u001b[38;5;45mNone\u001b[0m, \u001b[38;5;34m74\u001b[0m, \u001b[38;5;34m74\u001b[0m, \u001b[38;5;34m16\u001b[0m)            │           \u001b[38;5;34m0\u001b[0m │\n",
       "├────────────────────────────────────┼───────────────────────────────┼─────────────┤\n",
       "│ conv2d_1 (\u001b[38;5;33mConv2D\u001b[0m)                  │ (\u001b[38;5;45mNone\u001b[0m, \u001b[38;5;34m72\u001b[0m, \u001b[38;5;34m72\u001b[0m, \u001b[38;5;34m32\u001b[0m)            │       \u001b[38;5;34m4,640\u001b[0m │\n",
       "├────────────────────────────────────┼───────────────────────────────┼─────────────┤\n",
       "│ max_pooling2d_1 (\u001b[38;5;33mMaxPooling2D\u001b[0m)     │ (\u001b[38;5;45mNone\u001b[0m, \u001b[38;5;34m36\u001b[0m, \u001b[38;5;34m36\u001b[0m, \u001b[38;5;34m32\u001b[0m)            │           \u001b[38;5;34m0\u001b[0m │\n",
       "├────────────────────────────────────┼───────────────────────────────┼─────────────┤\n",
       "│ conv2d_2 (\u001b[38;5;33mConv2D\u001b[0m)                  │ (\u001b[38;5;45mNone\u001b[0m, \u001b[38;5;34m34\u001b[0m, \u001b[38;5;34m34\u001b[0m, \u001b[38;5;34m64\u001b[0m)            │      \u001b[38;5;34m18,496\u001b[0m │\n",
       "├────────────────────────────────────┼───────────────────────────────┼─────────────┤\n",
       "│ max_pooling2d_2 (\u001b[38;5;33mMaxPooling2D\u001b[0m)     │ (\u001b[38;5;45mNone\u001b[0m, \u001b[38;5;34m17\u001b[0m, \u001b[38;5;34m17\u001b[0m, \u001b[38;5;34m64\u001b[0m)            │           \u001b[38;5;34m0\u001b[0m │\n",
       "├────────────────────────────────────┼───────────────────────────────┼─────────────┤\n",
       "│ flatten (\u001b[38;5;33mFlatten\u001b[0m)                  │ (\u001b[38;5;45mNone\u001b[0m, \u001b[38;5;34m18496\u001b[0m)                 │           \u001b[38;5;34m0\u001b[0m │\n",
       "├────────────────────────────────────┼───────────────────────────────┼─────────────┤\n",
       "│ dense (\u001b[38;5;33mDense\u001b[0m)                      │ (\u001b[38;5;45mNone\u001b[0m, \u001b[38;5;34m512\u001b[0m)                   │   \u001b[38;5;34m9,470,464\u001b[0m │\n",
       "├────────────────────────────────────┼───────────────────────────────┼─────────────┤\n",
       "│ dense_1 (\u001b[38;5;33mDense\u001b[0m)                    │ (\u001b[38;5;45mNone\u001b[0m, \u001b[38;5;34m64\u001b[0m)                    │      \u001b[38;5;34m32,832\u001b[0m │\n",
       "├────────────────────────────────────┼───────────────────────────────┼─────────────┤\n",
       "│ dense_2 (\u001b[38;5;33mDense\u001b[0m)                    │ (\u001b[38;5;45mNone\u001b[0m, \u001b[38;5;34m4\u001b[0m)                     │         \u001b[38;5;34m260\u001b[0m │\n",
       "└────────────────────────────────────┴───────────────────────────────┴─────────────┘\n"
      ]
     },
     "metadata": {},
     "output_type": "display_data"
    },
    {
     "data": {
      "text/html": [
       "<pre style=\"white-space:pre;overflow-x:auto;line-height:normal;font-family:Menlo,'DejaVu Sans Mono',consolas,'Courier New',monospace\"><span style=\"font-weight: bold\"> Total params: </span><span style=\"color: #00af00; text-decoration-color: #00af00\">9,527,140</span> (36.34 MB)\n",
       "</pre>\n"
      ],
      "text/plain": [
       "\u001b[1m Total params: \u001b[0m\u001b[38;5;34m9,527,140\u001b[0m (36.34 MB)\n"
      ]
     },
     "metadata": {},
     "output_type": "display_data"
    },
    {
     "data": {
      "text/html": [
       "<pre style=\"white-space:pre;overflow-x:auto;line-height:normal;font-family:Menlo,'DejaVu Sans Mono',consolas,'Courier New',monospace\"><span style=\"font-weight: bold\"> Trainable params: </span><span style=\"color: #00af00; text-decoration-color: #00af00\">9,527,140</span> (36.34 MB)\n",
       "</pre>\n"
      ],
      "text/plain": [
       "\u001b[1m Trainable params: \u001b[0m\u001b[38;5;34m9,527,140\u001b[0m (36.34 MB)\n"
      ]
     },
     "metadata": {},
     "output_type": "display_data"
    },
    {
     "data": {
      "text/html": [
       "<pre style=\"white-space:pre;overflow-x:auto;line-height:normal;font-family:Menlo,'DejaVu Sans Mono',consolas,'Courier New',monospace\"><span style=\"font-weight: bold\"> Non-trainable params: </span><span style=\"color: #00af00; text-decoration-color: #00af00\">0</span> (0.00 B)\n",
       "</pre>\n"
      ],
      "text/plain": [
       "\u001b[1m Non-trainable params: \u001b[0m\u001b[38;5;34m0\u001b[0m (0.00 B)\n"
      ]
     },
     "metadata": {},
     "output_type": "display_data"
    }
   ],
   "source": [
    "# Get the untrained model\n",
    "model = create_model()\n",
    "\n",
    "model.summary()"
   ]
  },
  {
   "cell_type": "code",
   "execution_count": 12,
   "metadata": {
    "colab": {
     "background_save": true,
     "base_uri": "https://localhost:8080/"
    },
    "id": "7Dbq49-t44Pq",
    "outputId": "ead6bdae-c9bc-47f2-efb7-94205a5c1248"
   },
   "outputs": [
    {
     "name": "stdout",
     "output_type": "stream",
     "text": [
      "Epoch 1/100\n"
     ]
    },
    {
     "name": "stderr",
     "output_type": "stream",
     "text": [
      "C:\\Users\\Kholoud\\AppData\\Local\\Programs\\Python\\Python310\\lib\\site-packages\\keras\\src\\trainers\\data_adapters\\py_dataset_adapter.py:121: UserWarning: Your `PyDataset` class should call `super().__init__(**kwargs)` in its constructor. `**kwargs` can include `workers`, `use_multiprocessing`, `max_queue_size`. Do not pass these arguments to `fit()`, as they will be ignored.\n",
      "  self._warn_if_super_not_called()\n"
     ]
    },
    {
     "name": "stdout",
     "output_type": "stream",
     "text": [
      "25/25 - 24s - 942ms/step - acc: 0.5000 - loss: 0.4546 - val_acc: 0.5650 - val_loss: 0.3777\n",
      "Epoch 2/100\n",
      "25/25 - 12s - 498ms/step - acc: 0.6143 - loss: 0.3463 - val_acc: 0.6750 - val_loss: 0.3158\n",
      "Epoch 3/100\n",
      "25/25 - 13s - 501ms/step - acc: 0.6847 - loss: 0.3070 - val_acc: 0.6650 - val_loss: 0.3449\n",
      "Epoch 4/100\n",
      "25/25 - 12s - 498ms/step - acc: 0.6997 - loss: 0.2956 - val_acc: 0.7600 - val_loss: 0.2686\n",
      "Epoch 5/100\n",
      "25/25 - 13s - 507ms/step - acc: 0.7060 - loss: 0.2911 - val_acc: 0.7450 - val_loss: 0.2682\n",
      "Epoch 6/100\n",
      "25/25 - 12s - 497ms/step - acc: 0.7211 - loss: 0.2875 - val_acc: 0.6850 - val_loss: 0.3049\n",
      "Epoch 7/100\n",
      "25/25 - 13s - 505ms/step - acc: 0.7475 - loss: 0.2777 - val_acc: 0.7300 - val_loss: 0.2876\n",
      "Epoch 8/100\n",
      "25/25 - 13s - 511ms/step - acc: 0.7399 - loss: 0.2685 - val_acc: 0.7450 - val_loss: 0.2589\n",
      "Epoch 9/100\n",
      "25/25 - 12s - 496ms/step - acc: 0.7500 - loss: 0.2622 - val_acc: 0.7300 - val_loss: 0.2620\n",
      "Epoch 10/100\n",
      "25/25 - 12s - 487ms/step - acc: 0.7211 - loss: 0.2796 - val_acc: 0.7350 - val_loss: 0.2643\n",
      "Epoch 11/100\n",
      "25/25 - 13s - 500ms/step - acc: 0.7814 - loss: 0.2489 - val_acc: 0.7450 - val_loss: 0.2796\n",
      "Epoch 12/100\n",
      "25/25 - 13s - 506ms/step - acc: 0.7626 - loss: 0.2517 - val_acc: 0.7550 - val_loss: 0.2509\n",
      "Epoch 13/100\n",
      "25/25 - 12s - 493ms/step - acc: 0.7588 - loss: 0.2468 - val_acc: 0.8150 - val_loss: 0.2244\n",
      "Epoch 14/100\n",
      "25/25 - 12s - 495ms/step - acc: 0.7739 - loss: 0.2360 - val_acc: 0.7800 - val_loss: 0.2112\n",
      "Epoch 15/100\n",
      "25/25 - 13s - 511ms/step - acc: 0.7902 - loss: 0.2293 - val_acc: 0.7350 - val_loss: 0.2610\n",
      "Epoch 16/100\n",
      "25/25 - 12s - 487ms/step - acc: 0.8053 - loss: 0.2281 - val_acc: 0.7750 - val_loss: 0.2386\n",
      "Epoch 17/100\n",
      "25/25 - 13s - 512ms/step - acc: 0.7802 - loss: 0.2351 - val_acc: 0.7650 - val_loss: 0.2636\n",
      "Epoch 18/100\n",
      "25/25 - 13s - 507ms/step - acc: 0.7701 - loss: 0.2415 - val_acc: 0.8050 - val_loss: 0.2202\n",
      "Epoch 19/100\n",
      "25/25 - 12s - 494ms/step - acc: 0.7651 - loss: 0.2420 - val_acc: 0.7950 - val_loss: 0.2059\n",
      "Epoch 20/100\n",
      "25/25 - 13s - 500ms/step - acc: 0.8090 - loss: 0.2114 - val_acc: 0.7850 - val_loss: 0.2173\n",
      "Epoch 21/100\n",
      "25/25 - 12s - 500ms/step - acc: 0.7751 - loss: 0.2473 - val_acc: 0.7800 - val_loss: 0.2166\n",
      "Epoch 22/100\n",
      "25/25 - 13s - 503ms/step - acc: 0.8103 - loss: 0.2071 - val_acc: 0.8100 - val_loss: 0.2115\n",
      "Epoch 23/100\n",
      "25/25 - 14s - 552ms/step - acc: 0.8229 - loss: 0.2059 - val_acc: 0.8100 - val_loss: 0.2220\n",
      "Epoch 24/100\n",
      "25/25 - 13s - 540ms/step - acc: 0.8103 - loss: 0.2098 - val_acc: 0.8200 - val_loss: 0.2237\n",
      "Epoch 25/100\n",
      "25/25 - 13s - 533ms/step - acc: 0.8141 - loss: 0.2106 - val_acc: 0.8150 - val_loss: 0.2243\n",
      "Epoch 26/100\n",
      "25/25 - 14s - 567ms/step - acc: 0.8090 - loss: 0.2108 - val_acc: 0.8050 - val_loss: 0.2144\n",
      "Epoch 27/100\n",
      "25/25 - 13s - 529ms/step - acc: 0.8178 - loss: 0.2076 - val_acc: 0.8150 - val_loss: 0.2099\n",
      "Epoch 28/100\n",
      "25/25 - 14s - 555ms/step - acc: 0.8329 - loss: 0.1944 - val_acc: 0.8150 - val_loss: 0.2454\n",
      "Epoch 29/100\n",
      "25/25 - 13s - 512ms/step - acc: 0.8417 - loss: 0.1815 - val_acc: 0.8100 - val_loss: 0.2101\n",
      "Epoch 30/100\n",
      "25/25 - 14s - 559ms/step - acc: 0.8229 - loss: 0.1970 - val_acc: 0.8050 - val_loss: 0.2121\n",
      "Epoch 31/100\n",
      "25/25 - 14s - 553ms/step - acc: 0.8492 - loss: 0.1818 - val_acc: 0.7700 - val_loss: 0.3194\n",
      "Epoch 32/100\n",
      "25/25 - 14s - 542ms/step - acc: 0.8492 - loss: 0.1848 - val_acc: 0.8150 - val_loss: 0.2307\n",
      "Epoch 33/100\n",
      "25/25 - 13s - 537ms/step - acc: 0.8367 - loss: 0.1863 - val_acc: 0.8200 - val_loss: 0.2060\n",
      "Epoch 34/100\n",
      "25/25 - 15s - 590ms/step - acc: 0.8492 - loss: 0.1689 - val_acc: 0.7850 - val_loss: 0.2870\n",
      "Epoch 35/100\n",
      "\n",
      "Reached 91.0% accuracy so cancelling training!\n",
      "25/25 - 15s - 615ms/step - acc: 0.8455 - loss: 0.1836 - val_acc: 0.8500 - val_loss: 0.1866\n"
     ]
    }
   ],
   "source": [
    "\n",
    "# Train the model\n",
    "callbacks = myCallback()\n",
    "history = model.fit(train_generator,\n",
    "                    epochs=100,\n",
    "                    verbose=2,\n",
    "                    validation_data=validation_generator,\n",
    "                    callbacks=callbacks\n",
    "                   )"
   ]
  },
  {
   "cell_type": "code",
   "execution_count": 13,
   "metadata": {
    "colab": {
     "background_save": true
    },
    "id": "jfFXLxSQ4q7a",
    "outputId": "d77763cf-cef9-4c23-ecb8-b2311826e56e"
   },
   "outputs": [
    {
     "data": {
      "image/png": "[encoded data removed]",
      "text/plain": [
       "<Figure size 640x480 with 1 Axes>"
      ]
     },
     "metadata": {},
     "output_type": "display_data"
    },
    {
     "name": "stdout",
     "output_type": "stream",
     "text": [
      "\n"
     ]
    },
    {
     "data": {
      "image/png": "[encoded data removed]",
      "text/plain": [
       "<Figure size 640x480 with 1 Axes>"
      ]
     },
     "metadata": {},
     "output_type": "display_data"
    },
    {
     "name": "stdout",
     "output_type": "stream",
     "text": [
      "[0.5649999976158142, 0.675000011920929, 0.6650000214576721, 0.7599999904632568, 0.7450000047683716, 0.6850000023841858, 0.7300000190734863, 0.7450000047683716, 0.7300000190734863, 0.7350000143051147, 0.7450000047683716, 0.7549999952316284, 0.8149999976158142, 0.7799999713897705, 0.7350000143051147, 0.7749999761581421, 0.7649999856948853, 0.8050000071525574, 0.7950000166893005, 0.7850000262260437, 0.7799999713897705, 0.8100000023841858, 0.8100000023841858, 0.8199999928474426, 0.8149999976158142, 0.8050000071525574, 0.8149999976158142, 0.8149999976158142, 0.8100000023841858, 0.8050000071525574, 0.7699999809265137, 0.8149999976158142, 0.8199999928474426, 0.7850000262260437, 0.8500000238418579]\n"
     ]
    }
   ],
   "source": [
    "#-----------------------------------------------------------\n",
    "# Retrieve a list of list results on training and test data\n",
    "# sets for each training epoch\n",
    "#-----------------------------------------------------------\n",
    "acc=history.history['acc']\n",
    "val_acc=history.history['val_acc']\n",
    "loss=history.history['loss']\n",
    "val_loss=history.history['val_loss']\n",
    "\n",
    "epochs=range(len(acc)) # Get number of epochs\n",
    "\n",
    "#------------------------------------------------\n",
    "# Plot training and validation accuracy per epoch\n",
    "#------------------------------------------------\n",
    "plt.plot(epochs, acc, 'r', \"Training Accuracy\")\n",
    "plt.plot(epochs, val_acc, 'b', \"Validation Accuracy\")\n",
    "plt.title('Training and validation accuracy')\n",
    "plt.show()\n",
    "print(\"\")\n",
    "\n",
    "#------------------------------------------------\n",
    "# Plot training and validation loss per epoch\n",
    "#------------------------------------------------\n",
    "plt.plot(epochs, loss, 'r', \"Training Loss\")\n",
    "plt.plot(epochs, val_loss, 'b', \"Validation Loss\")\n",
    "plt.show()\n",
    "print(val_acc)"
   ]
  },
  {
   "cell_type": "code",
   "execution_count": 17,
   "metadata": {},
   "outputs": [
    {
     "name": "stdout",
     "output_type": "stream",
     "text": [
      "\u001b[1m7/7\u001b[0m \u001b[32m━━━━━━━━━━━━━━━━━━━━\u001b[0m\u001b[37m\u001b[0m \u001b[1m1s\u001b[0m 129ms/step\n"
     ]
    },
    {
     "data": {
      "image/png": "[encoded data removed]",
      "text/plain": [
       "<Figure size 640x480 with 2 Axes>"
      ]
     },
     "metadata": {},
     "output_type": "display_data"
    }
   ],
   "source": [
    "from sklearn.metrics import ConfusionMatrixDisplay\n",
    "from sklearn.metrics import confusion_matrix, ConfusionMatrixDisplay\n",
    "\n",
    "import numpy as np\n",
    "# Get the true labels and predictions for the validation data\n",
    "validation_generator.reset()\n",
    "predictions = model.predict(validation_generator, verbose=1)\n",
    "predicted_classes = np.argmax(predictions, axis=1)\n",
    "true_classes = validation_generator.classes\n",
    "\n",
    "# Get class labels\n",
    "class_labels = list(validation_generator.class_indices.keys())\n",
    "\n",
    "# Generate the confusion matrix\n",
    "conf_matrix = confusion_matrix(true_classes, predicted_classes)\n",
    "\n",
    "# Plot the confusion matrix\n",
    "disp = ConfusionMatrixDisplay(confusion_matrix=conf_matrix, display_labels=class_labels)\n",
    "disp.plot(cmap=plt.cm.Blues)\n",
    "plt.show()"
   ]
  },
  {
   "cell_type": "code",
   "execution_count": 14,
   "metadata": {
    "id": "iI2n6JtbRSru"
   },
   "outputs": [
    {
     "data": {
      "application/vnd.jupyter.widget-view+json": {
       "model_id": "ab7fdcb4692d4a0589edc65bc1034938",
       "version_major": 2,
       "version_minor": 0
      },
      "text/plain": [
       "FileUpload(value=(), accept='image/*', description='Upload', multiple=True)"
      ]
     },
     "metadata": {},
     "output_type": "display_data"
    },
    {
     "name": "stdout",
     "output_type": "stream",
     "text": [
      "Upload button created\n"
     ]
    }
   ],
   "source": [
    "import ipywidgets as widgets\n",
    "from IPython.display import display\n",
    "\n",
    "# Create an upload button\n",
    "upload_button = widgets.FileUpload(\n",
    "    accept='image/*',  # Accept image files\n",
    "    multiple=True  # Accept multiple files\n",
    ")\n",
    "display(upload_button)\n",
    "print(\"Upload button created\")"
   ]
  },
  {
   "cell_type": "code",
   "execution_count": 73,
   "metadata": {},
   "outputs": [
    {
     "name": "stdout",
     "output_type": "stream",
     "text": [
      "Processing file: WhatsApp Image 2024-07-08 at 3.00.23 PM.jpeg\n",
      "Image shape after processing: (1, 150, 150, 3)\n",
      "\u001b[1m1/1\u001b[0m \u001b[32m━━━━━━━━━━━━━━━━━━━━\u001b[0m\u001b[37m\u001b[0m \u001b[1m0s\u001b[0m 23ms/step\n",
      "Predicted classes: [[3.3751188e-05 2.5457064e-02 2.4354886e-01 7.5186229e-01]]\n",
      "Acnes level      : 0\n",
      "Blackheads level : 1\n",
      "Darkspots level  : 3\n",
      "Wrinkles level   : 8\n",
      "\n",
      "Most significant skin problem: wrinkles\n"
     ]
    }
   ],
   "source": [
    "import numpy as np\n",
    "from tensorflow.keras.utils import load_img, img_to_array\n",
    "from io import BytesIO\n",
    "from PIL import Image\n",
    "\n",
    "# Assuming 'model' is already defined and loaded\n",
    "\n",
    "# Process uploaded files\n",
    "for uploaded_file in upload_button.value:\n",
    "    try:\n",
    "        print(f\"Processing file: {uploaded_file['name']}\")\n",
    "        # predicting images\n",
    "        file_content = uploaded_file['content']\n",
    "        img = Image.open(BytesIO(file_content)).resize((150, 150))\n",
    "        img = img.convert('RGB')  # Ensure image is in RGB mode\n",
    "        x = img_to_array(img)\n",
    "        x /= 255.0\n",
    "        x = np.expand_dims(x, axis=0)\n",
    "\n",
    "        print(f\"Image shape after processing: {x.shape}\")\n",
    "\n",
    "        images = np.vstack([x])\n",
    "        classes = model.predict(images, batch_size=10)\n",
    "        print(f\"Predicted classes: {classes}\")\n",
    "\n",
    "        classes_normalized = classes * 1000\n",
    "        classes_rounded = np.round(classes_normalized)\n",
    "        classes_in_level = classes_rounded / 100\n",
    "        classes_in_level_rounded = np.ceil(classes_in_level)\n",
    "        classes_in_level_rounded_1d = classes_in_level_rounded.flatten()\n",
    "\n",
    "        acnes_level = int(classes_in_level_rounded_1d[0])\n",
    "        blackheads_level = int(classes_in_level_rounded_1d[1])\n",
    "        darkspots_level = int(classes_in_level_rounded_1d[2])\n",
    "        wrinkles_level = int(classes_in_level_rounded_1d[3])\n",
    "\n",
    "        print('Acnes level      : ' + str(acnes_level))\n",
    "        print('Blackheads level : ' + str(blackheads_level))\n",
    "        print('Darkspots level  : ' + str(darkspots_level))\n",
    "        print('Wrinkles level   : ' + str(wrinkles_level))\n",
    "\n",
    "        categories = np.array(['acnes', 'blackheads', 'darkspots', 'wrinkles'])\n",
    "        max_index = np.argmax(classes_in_level_rounded)\n",
    "        max_category = categories[max_index]\n",
    "        print(f\"\\nMost significant skin problem: \" + str(max_category))\n",
    "    except Exception as e:\n",
    "        print(f\"Error processing file {uploaded_file['name']}: {str(e)}\")\n"
   ]
  },
  {
   "cell_type": "code",
   "execution_count": 76,
   "metadata": {
    "colab": {
     "background_save": true
    },
    "id": "oT8FrCOrCJYK"
   },
   "outputs": [
    {
     "name": "stderr",
     "output_type": "stream",
     "text": [
      "WARNING:absl:You are saving your model as an HDF5 file via `model.save()` or `keras.saving.save_model(model)`. This file format is considered legacy. We recommend using instead the native Keras format, e.g. `model.save('my_model.keras')` or `keras.saving.save_model(model, 'my_model.keras')`. \n"
     ]
    }
   ],
   "source": [
    "\n",
    "# Save the model architecture in JSON format\n",
    "model_json = model.to_json()\n",
    "with open(\"model.json\", \"w\") as json_file:\n",
    "    json_file.write(model_json)\n",
    "\n",
    "# Save the model weights in H5 format\n",
    "model.save(\"skinmate-model-4.h5\")\n",
    "model.save('my_model.keras')"
   ]
  },
  {
   "cell_type": "code",
   "execution_count": 77,
   "metadata": {
    "id": "qSzLWSXXWjAh"
   },
   "outputs": [],
   "source": [
    "model.save('my_model_prediction---.keras')"
   ]
  },
  {
   "cell_type": "code",
   "execution_count": 23,
   "metadata": {},
   "outputs": [
    {
     "name": "stdout",
     "output_type": "stream",
     "text": [
      "Found 800 images belonging to 4 classes.\n",
      "Found 200 images belonging to 4 classes.\n",
      "Epoch 1/100\n"
     ]
    },
    {
     "name": "stderr",
     "output_type": "stream",
     "text": [
      "C:\\Users\\Kholoud\\AppData\\Local\\Programs\\Python\\Python310\\lib\\site-packages\\keras\\src\\trainers\\data_adapters\\py_dataset_adapter.py:121: UserWarning: Your `PyDataset` class should call `super().__init__(**kwargs)` in its constructor. `**kwargs` can include `workers`, `use_multiprocessing`, `max_queue_size`. Do not pass these arguments to `fit()`, as they will be ignored.\n",
      "  self._warn_if_super_not_called()\n"
     ]
    },
    {
     "name": "stdout",
     "output_type": "stream",
     "text": [
      "25/25 - 28s - 1s/step - acc: 0.2925 - loss: 0.5767 - val_acc: 0.5200 - val_loss: 0.5554\n",
      "Epoch 2/100\n",
      "25/25 - 18s - 712ms/step - acc: 0.3388 - loss: 0.5539 - val_acc: 0.4000 - val_loss: 0.5513\n",
      "Epoch 3/100\n",
      "25/25 - 17s - 700ms/step - acc: 0.3638 - loss: 0.5418 - val_acc: 0.2500 - val_loss: 0.5442\n",
      "Epoch 4/100\n",
      "25/25 - 17s - 699ms/step - acc: 0.4187 - loss: 0.5251 - val_acc: 0.4400 - val_loss: 0.5025\n",
      "Epoch 5/100\n",
      "25/25 - 18s - 711ms/step - acc: 0.4812 - loss: 0.5050 - val_acc: 0.4400 - val_loss: 0.4983\n",
      "Epoch 6/100\n",
      "25/25 - 18s - 707ms/step - acc: 0.4550 - loss: 0.4990 - val_acc: 0.3750 - val_loss: 0.5022\n",
      "Epoch 7/100\n",
      "25/25 - 18s - 710ms/step - acc: 0.4800 - loss: 0.4869 - val_acc: 0.4850 - val_loss: 0.4740\n",
      "Epoch 8/100\n",
      "25/25 - 18s - 709ms/step - acc: 0.4950 - loss: 0.4763 - val_acc: 0.5400 - val_loss: 0.4550\n",
      "Epoch 9/100\n",
      "25/25 - 18s - 706ms/step - acc: 0.5525 - loss: 0.4613 - val_acc: 0.4800 - val_loss: 0.4609\n",
      "Epoch 10/100\n",
      "25/25 - 18s - 707ms/step - acc: 0.5500 - loss: 0.4646 - val_acc: 0.6200 - val_loss: 0.4225\n",
      "Epoch 11/100\n",
      "25/25 - 18s - 710ms/step - acc: 0.5325 - loss: 0.4615 - val_acc: 0.6300 - val_loss: 0.4194\n",
      "Epoch 12/100\n",
      "25/25 - 18s - 712ms/step - acc: 0.6062 - loss: 0.4312 - val_acc: 0.6800 - val_loss: 0.4176\n",
      "Epoch 13/100\n",
      "25/25 - 18s - 711ms/step - acc: 0.6225 - loss: 0.4231 - val_acc: 0.6000 - val_loss: 0.4115\n",
      "Epoch 14/100\n",
      "25/25 - 18s - 719ms/step - acc: 0.6463 - loss: 0.4101 - val_acc: 0.6750 - val_loss: 0.3913\n",
      "Epoch 15/100\n",
      "25/25 - 18s - 721ms/step - acc: 0.6350 - loss: 0.3961 - val_acc: 0.6100 - val_loss: 0.3943\n",
      "Epoch 16/100\n",
      "25/25 - 18s - 716ms/step - acc: 0.6862 - loss: 0.3801 - val_acc: 0.6150 - val_loss: 0.3853\n",
      "Epoch 17/100\n",
      "25/25 - 18s - 723ms/step - acc: 0.6662 - loss: 0.3761 - val_acc: 0.7250 - val_loss: 0.3600\n",
      "Epoch 18/100\n",
      "25/25 - 17s - 696ms/step - acc: 0.6400 - loss: 0.3812 - val_acc: 0.5500 - val_loss: 0.4201\n",
      "Epoch 19/100\n",
      "25/25 - 17s - 694ms/step - acc: 0.6650 - loss: 0.3669 - val_acc: 0.6200 - val_loss: 0.3653\n",
      "Epoch 20/100\n",
      "25/25 - 18s - 705ms/step - acc: 0.6625 - loss: 0.3580 - val_acc: 0.6450 - val_loss: 0.3612\n",
      "Epoch 21/100\n",
      "25/25 - 17s - 693ms/step - acc: 0.6888 - loss: 0.3582 - val_acc: 0.6750 - val_loss: 0.3364\n",
      "Epoch 22/100\n",
      "25/25 - 17s - 697ms/step - acc: 0.7150 - loss: 0.3272 - val_acc: 0.7350 - val_loss: 0.3109\n",
      "Epoch 23/100\n",
      "25/25 - 17s - 697ms/step - acc: 0.6938 - loss: 0.3359 - val_acc: 0.6050 - val_loss: 0.3716\n",
      "Epoch 24/100\n",
      "25/25 - 17s - 698ms/step - acc: 0.6250 - loss: 0.3606 - val_acc: 0.6650 - val_loss: 0.3187\n",
      "Epoch 25/100\n",
      "25/25 - 17s - 698ms/step - acc: 0.7212 - loss: 0.3171 - val_acc: 0.7450 - val_loss: 0.3037\n",
      "Epoch 26/100\n",
      "25/25 - 17s - 692ms/step - acc: 0.7113 - loss: 0.3292 - val_acc: 0.7100 - val_loss: 0.3089\n",
      "Epoch 27/100\n",
      "25/25 - 17s - 693ms/step - acc: 0.7063 - loss: 0.3187 - val_acc: 0.7000 - val_loss: 0.3309\n",
      "Epoch 28/100\n",
      "25/25 - 17s - 695ms/step - acc: 0.7113 - loss: 0.3179 - val_acc: 0.7550 - val_loss: 0.3053\n",
      "Epoch 29/100\n",
      "25/25 - 17s - 693ms/step - acc: 0.7387 - loss: 0.3068 - val_acc: 0.7450 - val_loss: 0.3005\n",
      "Epoch 30/100\n",
      "25/25 - 17s - 693ms/step - acc: 0.7063 - loss: 0.3206 - val_acc: 0.7500 - val_loss: 0.2937\n",
      "Epoch 31/100\n",
      "25/25 - 17s - 693ms/step - acc: 0.7113 - loss: 0.3092 - val_acc: 0.7200 - val_loss: 0.3020\n",
      "Epoch 32/100\n",
      "25/25 - 17s - 699ms/step - acc: 0.7163 - loss: 0.3037 - val_acc: 0.7550 - val_loss: 0.2836\n",
      "Epoch 33/100\n",
      "25/25 - 17s - 694ms/step - acc: 0.7125 - loss: 0.3042 - val_acc: 0.7500 - val_loss: 0.3071\n",
      "Epoch 34/100\n",
      "25/25 - 18s - 702ms/step - acc: 0.7138 - loss: 0.2979 - val_acc: 0.7450 - val_loss: 0.2845\n",
      "Epoch 35/100\n",
      "25/25 - 17s - 690ms/step - acc: 0.7250 - loss: 0.2952 - val_acc: 0.7600 - val_loss: 0.2776\n",
      "Epoch 36/100\n",
      "25/25 - 17s - 694ms/step - acc: 0.7425 - loss: 0.2938 - val_acc: 0.7400 - val_loss: 0.2864\n",
      "Epoch 37/100\n",
      "25/25 - 17s - 697ms/step - acc: 0.7275 - loss: 0.2924 - val_acc: 0.7200 - val_loss: 0.2876\n",
      "Epoch 38/100\n",
      "25/25 - 17s - 692ms/step - acc: 0.7175 - loss: 0.3002 - val_acc: 0.6650 - val_loss: 0.3511\n",
      "Epoch 39/100\n",
      "25/25 - 17s - 698ms/step - acc: 0.7050 - loss: 0.3010 - val_acc: 0.7650 - val_loss: 0.2743\n",
      "Epoch 40/100\n",
      "25/25 - 18s - 702ms/step - acc: 0.7663 - loss: 0.2781 - val_acc: 0.7050 - val_loss: 0.3081\n",
      "Epoch 41/100\n",
      "25/25 - 17s - 695ms/step - acc: 0.7113 - loss: 0.2973 - val_acc: 0.7150 - val_loss: 0.2947\n",
      "Epoch 42/100\n",
      "25/25 - 17s - 691ms/step - acc: 0.7275 - loss: 0.2948 - val_acc: 0.7750 - val_loss: 0.2854\n",
      "Epoch 43/100\n",
      "25/25 - 17s - 700ms/step - acc: 0.7138 - loss: 0.2957 - val_acc: 0.7550 - val_loss: 0.2860\n",
      "Epoch 44/100\n",
      "25/25 - 17s - 694ms/step - acc: 0.7462 - loss: 0.2810 - val_acc: 0.7700 - val_loss: 0.2725\n",
      "Epoch 45/100\n",
      "25/25 - 17s - 695ms/step - acc: 0.7437 - loss: 0.2706 - val_acc: 0.6900 - val_loss: 0.2702\n",
      "Epoch 46/100\n",
      "25/25 - 17s - 692ms/step - acc: 0.7412 - loss: 0.2781 - val_acc: 0.7100 - val_loss: 0.2824\n",
      "Epoch 47/100\n",
      "25/25 - 17s - 697ms/step - acc: 0.7237 - loss: 0.2846 - val_acc: 0.6800 - val_loss: 0.2968\n",
      "Epoch 48/100\n",
      "25/25 - 17s - 695ms/step - acc: 0.7462 - loss: 0.2715 - val_acc: 0.7500 - val_loss: 0.2675\n",
      "Epoch 49/100\n",
      "25/25 - 17s - 694ms/step - acc: 0.7375 - loss: 0.2716 - val_acc: 0.7800 - val_loss: 0.2685\n",
      "Epoch 50/100\n",
      "25/25 - 17s - 692ms/step - acc: 0.7513 - loss: 0.2832 - val_acc: 0.7550 - val_loss: 0.2740\n",
      "Epoch 51/100\n",
      "25/25 - 17s - 694ms/step - acc: 0.7650 - loss: 0.2613 - val_acc: 0.7500 - val_loss: 0.2686\n",
      "Epoch 52/100\n",
      "25/25 - 18s - 703ms/step - acc: 0.7450 - loss: 0.2794 - val_acc: 0.7200 - val_loss: 0.2715\n",
      "Epoch 53/100\n",
      "25/25 - 17s - 682ms/step - acc: 0.7538 - loss: 0.2660 - val_acc: 0.7800 - val_loss: 0.2537\n",
      "Epoch 54/100\n",
      "25/25 - 17s - 689ms/step - acc: 0.7475 - loss: 0.2665 - val_acc: 0.7750 - val_loss: 0.2555\n",
      "Epoch 55/100\n",
      "25/25 - 17s - 683ms/step - acc: 0.7487 - loss: 0.2697 - val_acc: 0.7500 - val_loss: 0.2619\n",
      "Epoch 56/100\n",
      "25/25 - 17s - 688ms/step - acc: 0.7525 - loss: 0.2642 - val_acc: 0.7500 - val_loss: 0.2565\n",
      "Epoch 57/100\n",
      "25/25 - 17s - 682ms/step - acc: 0.7563 - loss: 0.2623 - val_acc: 0.7550 - val_loss: 0.2720\n",
      "Epoch 58/100\n",
      "25/25 - 17s - 693ms/step - acc: 0.7337 - loss: 0.2740 - val_acc: 0.7300 - val_loss: 0.3111\n",
      "Epoch 59/100\n",
      "25/25 - 17s - 692ms/step - acc: 0.7013 - loss: 0.2933 - val_acc: 0.7500 - val_loss: 0.2806\n",
      "Epoch 60/100\n",
      "25/25 - 17s - 686ms/step - acc: 0.7638 - loss: 0.2591 - val_acc: 0.7750 - val_loss: 0.2534\n",
      "Epoch 61/100\n",
      "25/25 - 17s - 693ms/step - acc: 0.7138 - loss: 0.2949 - val_acc: 0.7550 - val_loss: 0.2593\n",
      "Epoch 62/100\n",
      "25/25 - 17s - 690ms/step - acc: 0.7300 - loss: 0.2863 - val_acc: 0.6700 - val_loss: 0.3038\n",
      "Epoch 63/100\n",
      "25/25 - 17s - 686ms/step - acc: 0.7700 - loss: 0.2545 - val_acc: 0.7900 - val_loss: 0.2421\n",
      "Epoch 64/100\n",
      "25/25 - 17s - 687ms/step - acc: 0.7525 - loss: 0.2645 - val_acc: 0.7250 - val_loss: 0.2777\n",
      "Epoch 65/100\n",
      "25/25 - 17s - 684ms/step - acc: 0.7437 - loss: 0.2743 - val_acc: 0.7900 - val_loss: 0.2627\n",
      "Epoch 66/100\n",
      "25/25 - 17s - 692ms/step - acc: 0.7513 - loss: 0.2650 - val_acc: 0.7650 - val_loss: 0.2520\n",
      "Epoch 67/100\n",
      "25/25 - 17s - 695ms/step - acc: 0.7563 - loss: 0.2628 - val_acc: 0.7650 - val_loss: 0.2551\n",
      "Epoch 68/100\n",
      "25/25 - 17s - 687ms/step - acc: 0.7475 - loss: 0.2718 - val_acc: 0.7900 - val_loss: 0.2406\n",
      "Epoch 69/100\n",
      "25/25 - 17s - 686ms/step - acc: 0.7563 - loss: 0.2631 - val_acc: 0.7650 - val_loss: 0.2600\n",
      "Epoch 70/100\n",
      "25/25 - 17s - 688ms/step - acc: 0.7650 - loss: 0.2446 - val_acc: 0.7050 - val_loss: 0.3042\n",
      "Epoch 71/100\n",
      "25/25 - 17s - 691ms/step - acc: 0.7812 - loss: 0.2512 - val_acc: 0.8050 - val_loss: 0.2507\n",
      "Epoch 72/100\n",
      "25/25 - 18s - 712ms/step - acc: 0.7750 - loss: 0.2531 - val_acc: 0.7750 - val_loss: 0.2531\n",
      "Epoch 73/100\n",
      "25/25 - 17s - 694ms/step - acc: 0.7688 - loss: 0.2463 - val_acc: 0.7750 - val_loss: 0.2717\n",
      "Epoch 74/100\n",
      "25/25 - 17s - 689ms/step - acc: 0.7688 - loss: 0.2454 - val_acc: 0.7200 - val_loss: 0.2583\n",
      "Epoch 75/100\n",
      "25/25 - 17s - 694ms/step - acc: 0.7700 - loss: 0.2536 - val_acc: 0.7850 - val_loss: 0.2731\n",
      "Epoch 76/100\n",
      "25/25 - 17s - 690ms/step - acc: 0.7625 - loss: 0.2508 - val_acc: 0.7850 - val_loss: 0.2464\n",
      "Epoch 77/100\n",
      "25/25 - 17s - 688ms/step - acc: 0.7425 - loss: 0.2533 - val_acc: 0.7950 - val_loss: 0.2368\n",
      "Epoch 78/100\n",
      "25/25 - 18s - 708ms/step - acc: 0.7750 - loss: 0.2500 - val_acc: 0.7850 - val_loss: 0.2391\n",
      "Epoch 79/100\n",
      "25/25 - 18s - 711ms/step - acc: 0.7675 - loss: 0.2476 - val_acc: 0.7700 - val_loss: 0.2564\n",
      "Epoch 80/100\n",
      "25/25 - 18s - 708ms/step - acc: 0.7688 - loss: 0.2462 - val_acc: 0.7950 - val_loss: 0.2295\n",
      "Epoch 81/100\n",
      "25/25 - 18s - 710ms/step - acc: 0.7613 - loss: 0.2557 - val_acc: 0.7850 - val_loss: 0.2638\n",
      "Epoch 82/100\n",
      "25/25 - 18s - 710ms/step - acc: 0.7837 - loss: 0.2458 - val_acc: 0.7800 - val_loss: 0.2449\n",
      "Epoch 83/100\n",
      "25/25 - 18s - 710ms/step - acc: 0.7825 - loss: 0.2370 - val_acc: 0.7900 - val_loss: 0.2450\n",
      "Epoch 84/100\n",
      "25/25 - 18s - 711ms/step - acc: 0.7788 - loss: 0.2440 - val_acc: 0.7750 - val_loss: 0.2590\n",
      "Epoch 85/100\n",
      "25/25 - 18s - 715ms/step - acc: 0.7800 - loss: 0.2399 - val_acc: 0.7950 - val_loss: 0.2649\n",
      "Epoch 86/100\n",
      "25/25 - 18s - 712ms/step - acc: 0.7900 - loss: 0.2418 - val_acc: 0.7550 - val_loss: 0.2462\n",
      "Epoch 87/100\n",
      "25/25 - 17s - 691ms/step - acc: 0.7725 - loss: 0.2423 - val_acc: 0.7900 - val_loss: 0.2389\n",
      "Epoch 88/100\n",
      "25/25 - 17s - 687ms/step - acc: 0.8000 - loss: 0.2290 - val_acc: 0.7800 - val_loss: 0.2432\n",
      "Epoch 89/100\n",
      "25/25 - 19s - 752ms/step - acc: 0.7450 - loss: 0.2562 - val_acc: 0.7700 - val_loss: 0.2488\n",
      "Epoch 90/100\n",
      "25/25 - 19s - 744ms/step - acc: 0.7887 - loss: 0.2338 - val_acc: 0.7700 - val_loss: 0.2586\n",
      "Epoch 91/100\n",
      "25/25 - 18s - 711ms/step - acc: 0.7700 - loss: 0.2412 - val_acc: 0.7900 - val_loss: 0.2388\n",
      "Epoch 92/100\n",
      "25/25 - 18s - 736ms/step - acc: 0.7775 - loss: 0.2372 - val_acc: 0.7750 - val_loss: 0.2561\n",
      "Epoch 93/100\n",
      "25/25 - 17s - 690ms/step - acc: 0.7513 - loss: 0.2543 - val_acc: 0.7550 - val_loss: 0.2541\n",
      "Epoch 94/100\n",
      "25/25 - 17s - 685ms/step - acc: 0.7538 - loss: 0.2550 - val_acc: 0.8100 - val_loss: 0.2496\n",
      "Epoch 95/100\n",
      "25/25 - 17s - 679ms/step - acc: 0.7925 - loss: 0.2424 - val_acc: 0.7800 - val_loss: 0.2436\n",
      "Epoch 96/100\n",
      "25/25 - 17s - 685ms/step - acc: 0.7937 - loss: 0.2304 - val_acc: 0.7400 - val_loss: 0.2494\n",
      "Epoch 97/100\n",
      "25/25 - 18s - 738ms/step - acc: 0.7775 - loss: 0.2447 - val_acc: 0.7650 - val_loss: 0.2253\n",
      "Epoch 98/100\n",
      "25/25 - 17s - 688ms/step - acc: 0.7862 - loss: 0.2385 - val_acc: 0.7550 - val_loss: 0.2499\n",
      "Epoch 99/100\n",
      "25/25 - 18s - 730ms/step - acc: 0.7538 - loss: 0.2535 - val_acc: 0.7600 - val_loss: 0.2401\n",
      "Epoch 100/100\n",
      "25/25 - 18s - 735ms/step - acc: 0.7738 - loss: 0.2436 - val_acc: 0.7850 - val_loss: 0.2469\n",
      "\u001b[1m7/7\u001b[0m \u001b[32m━━━━━━━━━━━━━━━━━━━━\u001b[0m\u001b[37m\u001b[0m \u001b[1m6s\u001b[0m 656ms/step\n",
      "              precision    recall  f1-score   support\n",
      "\n",
      "       acnes       0.27      0.30      0.28        50\n",
      "  blackheads       0.22      0.24      0.23        50\n",
      "   darkspots       0.32      0.24      0.28        50\n",
      "    wrinkles       0.23      0.24      0.24        50\n",
      "\n",
      "    accuracy                           0.26       200\n",
      "   macro avg       0.26      0.26      0.26       200\n",
      "weighted avg       0.26      0.26      0.26       200\n",
      "\n",
      "[[15 12  6 17]\n",
      " [17 12  9 12]\n",
      " [11 16 12 11]\n",
      " [13 15 10 12]]\n",
      "\u001b[1m1/1\u001b[0m \u001b[32m━━━━━━━━━━━━━━━━━━━━\u001b[0m\u001b[37m\u001b[0m \u001b[1m1s\u001b[0m 1s/step\n",
      "Acnes level      : 1\n",
      "Blackheads level : 1\n",
      "Darkspots level  : 1\n",
      "Wrinkles level   : 10\n",
      "\n",
      "Most significant skin problem: wrinkles\n"
     ]
    }
   ],
   "source": [
    "import os\n",
    "import random\n",
    "import shutil\n",
    "import numpy as np\n",
    "import tensorflow as tf\n",
    "from tensorflow.keras.preprocessing.image import ImageDataGenerator\n",
    "from tensorflow.keras.applications import ResNet50\n",
    "from tensorflow.keras.layers import Dense, GlobalAveragePooling2D\n",
    "from tensorflow.keras.models import Model\n",
    "from sklearn.utils.class_weight import compute_class_weight\n",
    "from sklearn.metrics import classification_report, confusion_matrix\n",
    "import matplotlib.pyplot as plt\n",
    "from shutil import copyfile\n",
    "from tensorflow.keras.utils import load_img, img_to_array\n",
    "from io import BytesIO\n",
    "from PIL import Image\n",
    "\n",
    "# Define directories\n",
    "source = 'C:/Users/Kholoud/Desktop/jupyter notebook/SkinMate-Dataset-20240630T095515Z-001/SkinMate-Dataset'\n",
    "sourceAcnes = os.path.join(source, 'acnes')\n",
    "sourceBlackheads = os.path.join(source, 'blackheads')\n",
    "sourceDarkSpots = os.path.join(source, 'darkspots')\n",
    "sourceWrinkles = os.path.join(source, 'wrinkles')\n",
    "\n",
    "root_dir = 'C:/Users/Kholoud/Desktop/jupyter notebook/SkinMatee'\n",
    "if os.path.exists(root_dir):\n",
    "    shutil.rmtree(root_dir)\n",
    "\n",
    "# Create train and validation directories\n",
    "def create_train_val_dirs(root_path):\n",
    "    train_dir = os.path.join(root_dir, 'training')\n",
    "    os.makedirs(train_dir, exist_ok=True)\n",
    "    val_dir = os.path.join(root_dir, 'validation')\n",
    "    os.makedirs(val_dir, exist_ok=True)\n",
    "\n",
    "    for category in ['acnes', 'blackheads', 'darkspots', 'wrinkles']:\n",
    "        os.makedirs(os.path.join(train_dir, category), exist_ok=True)\n",
    "        os.makedirs(os.path.join(val_dir, category), exist_ok=True)\n",
    "\n",
    "create_train_val_dirs(root_path=root_dir)\n",
    "\n",
    "def split_data(SOURCE_DIR, TRAINING_DIR, VALIDATION_DIR, SPLIT_SIZE):\n",
    "    files = [f for f in os.listdir(SOURCE_DIR) if os.path.getsize(os.path.join(SOURCE_DIR, f)) > 0]\n",
    "    random.shuffle(files)\n",
    "    train_size = int(len(files) * SPLIT_SIZE)\n",
    "    train_set = files[:train_size]\n",
    "    val_set = files[train_size:]\n",
    "\n",
    "    for filename in train_set:\n",
    "        copyfile(os.path.join(SOURCE_DIR, filename), os.path.join(TRAINING_DIR, filename))\n",
    "    for filename in val_set:\n",
    "        copyfile(os.path.join(SOURCE_DIR, filename), os.path.join(VALIDATION_DIR, filename))\n",
    "\n",
    "split_size = 0.8\n",
    "split_data(sourceAcnes, os.path.join(root_dir, 'training/acnes'), os.path.join(root_dir, 'validation/acnes'), split_size)\n",
    "split_data(sourceBlackheads, os.path.join(root_dir, 'training/blackheads'), os.path.join(root_dir, 'validation/blackheads'), split_size)\n",
    "split_data(sourceDarkSpots, os.path.join(root_dir, 'training/darkspots'), os.path.join(root_dir, 'validation/darkspots'), split_size)\n",
    "split_data(sourceWrinkles, os.path.join(root_dir, 'training/wrinkles'), os.path.join(root_dir, 'validation/wrinkles'), split_size)\n",
    "\n",
    "def train_val_generators(TRAINING_DIR, VALIDATION_DIR):\n",
    "    train_datagen = ImageDataGenerator(rescale=1./255.,\n",
    "                                       rotation_range=20,\n",
    "                                       width_shift_range=0.1,\n",
    "                                       height_shift_range=0.1,\n",
    "                                       shear_range=0.1,\n",
    "                                       zoom_range=0.1,\n",
    "                                       horizontal_flip=True,\n",
    "                                       fill_mode='nearest')\n",
    "\n",
    "    train_generator = train_datagen.flow_from_directory(directory=TRAINING_DIR,\n",
    "                                                        batch_size=32,\n",
    "                                                        class_mode='categorical',\n",
    "                                                        target_size=(150, 150))\n",
    "\n",
    "    validation_datagen = ImageDataGenerator(rescale=1./255.)\n",
    "\n",
    "    validation_generator = validation_datagen.flow_from_directory(directory=VALIDATION_DIR,\n",
    "                                                                  batch_size=32,\n",
    "                                                                  class_mode='categorical',\n",
    "                                                                  target_size=(150, 150))\n",
    "    return train_generator, validation_generator\n",
    "\n",
    "train_generator, validation_generator = train_val_generators(os.path.join(root_dir, 'training'),\n",
    "                                                             os.path.join(root_dir, 'validation'))\n",
    "\n",
    "class myCallback(tf.keras.callbacks.Callback):\n",
    "    def on_epoch_end(self, epoch, logs=None):\n",
    "        if logs.get('val_acc') >= 0.91:\n",
    "            print(\"\\nReached 91.0% accuracy so cancelling training!\")\n",
    "            self.model.stop_training = True\n",
    "\n",
    "def create_resnet_model():\n",
    "    base_model = ResNet50(weights='imagenet', include_top=False, input_shape=(150, 150, 3))\n",
    "    x = base_model.output\n",
    "    x = GlobalAveragePooling2D()(x)\n",
    "    x = Dense(512, activation='relu')(x)\n",
    "    x = Dense(64, activation='relu')(x)\n",
    "    predictions = Dense(4, activation='sigmoid')(x)\n",
    "    model = Model(inputs=base_model.input, outputs=predictions)\n",
    "\n",
    "    for layer in base_model.layers:\n",
    "        layer.trainable = False\n",
    "\n",
    "    model.compile(optimizer=tf.keras.optimizers.Adam(learning_rate=0.001),\n",
    "                  loss='binary_crossentropy',\n",
    "                  metrics=['acc'])\n",
    "\n",
    "    return model\n",
    "\n",
    "model = create_resnet_model()\n",
    "\n",
    "class_weights = compute_class_weight(class_weight='balanced',\n",
    "                                     classes=np.unique(train_generator.classes),\n",
    "                                     y=train_generator.classes)\n",
    "class_weights = dict(enumerate(class_weights))\n",
    "\n",
    "callbacks = myCallback()\n",
    "history = model.fit(train_generator,\n",
    "                    epochs=100,\n",
    "                    verbose=2,\n",
    "                    validation_data=validation_generator,\n",
    "                    callbacks=[callbacks],\n",
    "                    class_weight=class_weights)\n",
    "\n",
    "# Evaluate the model\n",
    "validation_labels = validation_generator.classes\n",
    "predictions = model.predict(validation_generator)\n",
    "predicted_classes = np.argmax(predictions, axis=1)\n",
    "\n",
    "print(classification_report(validation_labels, predicted_classes, target_names=train_generator.class_indices.keys()))\n",
    "print(confusion_matrix(validation_labels, predicted_classes))\n",
    "\n",
    "# Image prediction\n",
    "def predict_image(model, img_path):\n",
    "    img = load_img(img_path, target_size=(150, 150))\n",
    "    x = img_to_array(img)\n",
    "    x /= 255.0\n",
    "    x = np.expand_dims(x, axis=0)\n",
    "    predictions = model.predict(x)\n",
    "    return predictions\n",
    "\n",
    "# Upload and predict\n",
    "uploaded_files = upload_button.value\n",
    "\n",
    "for uploaded_file in uploaded_files:\n",
    "    try:\n",
    "        file_content = uploaded_file['content']\n",
    "        img = Image.open(BytesIO(file_content)).resize((150, 150))\n",
    "        img = img.convert('RGB')\n",
    "        x = img_to_array(img)\n",
    "        x /= 255.0\n",
    "        x = np.expand_dims(x, axis=0)\n",
    "        predictions = model.predict(x)\n",
    "\n",
    "        classes_normalized = predictions * 1000\n",
    "        classes_rounded = np.round(classes_normalized)\n",
    "        classes_in_level = classes_rounded / 100\n",
    "        classes_in_level_rounded = np.ceil(classes_in_level)\n",
    "        classes_in_level_rounded_1d = classes_in_level_rounded.flatten()\n",
    "\n",
    "        acnes_level = int(classes_in_level_rounded_1d[0])\n",
    "        blackheads_level = int(classes_in_level_rounded_1d[1])\n",
    "        darkspots_level = int(classes_in_level_rounded_1d[2])\n",
    "        wrinkles_level = int(classes_in_level_rounded_1d[3])\n",
    "\n",
    "        print(f'Acnes level      : {acnes_level}')\n",
    "        print(f'Blackheads level : {blackheads_level}')\n",
    "        print(f'Darkspots level  : {darkspots_level}')\n",
    "        print(f'Wrinkles level   : {wrinkles_level}')\n",
    "\n",
    "        categories = np.array(['acnes', 'blackheads', 'darkspots', 'wrinkles'])\n",
    "        max_index = np.argmax(classes_in_level_rounded)\n",
    "        max_category = categories[max_index]\n",
    "        print(f\"\\nMost significant skin problem: {max_category}\")\n",
    "    except Exception as e:\n",
    "        print(f\"Error processing file {uploaded_file['name']}: {str(e)}\")\n"
   ]
  },
  {
   "cell_type": "code",
   "execution_count": null,
   "metadata": {},
   "outputs": [],
   "source": []
  }
 ],
 "metadata": {
  "colab": {
   "provenance": []
  },
  "kernelspec": {
   "display_name": "Python 3 (ipykernel)",
   "language": "python",
   "name": "python3"
  },
  "language_info": {
   "codemirror_mode": {
    "name": "ipython",
    "version": 3
   },
   "file_extension": ".py",
   "mimetype": "text/x-python",
   "name": "python",
   "nbconvert_exporter": "python",
   "pygments_lexer": "ipython3",
   "version": "3.10.4"
  }
 },
 "nbformat": 4,
 "nbformat_minor": 4
}
