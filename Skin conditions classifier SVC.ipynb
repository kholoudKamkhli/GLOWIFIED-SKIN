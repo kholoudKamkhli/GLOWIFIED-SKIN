{
 "cells": [
  {
   "cell_type": "code",
   "execution_count": 1,
   "id": "abdf82db-076e-47cb-948a-814b1b2532c2",
   "metadata": {},
   "outputs": [],
   "source": [
    "import os\n",
    "import random\n",
    "import shutil\n",
    "import numpy as np\n",
    "from sklearn import svm\n",
    "from sklearn.metrics import accuracy_score, classification_report\n",
    "from sklearn.preprocessing import StandardScaler\n",
    "from sklearn.model_selection import train_test_split\n",
    "from tensorflow.keras.preprocessing.image import load_img, img_to_array\n",
    "from tensorflow.keras.utils import to_categorical\n",
    "import matplotlib.pyplot as plt"
   ]
  },
  {
   "cell_type": "code",
   "execution_count": 2,
   "id": "88e32339-fad5-443f-be1a-8b44dcfed8a5",
   "metadata": {},
   "outputs": [
    {
     "name": "stdout",
     "output_type": "stream",
     "text": [
      "There are 250 images of acnes.\n",
      "There are 250 images of blackheads.\n",
      "There are 250 images of darkspots.\n",
      "There are 246 images of wrinkles.\n"
     ]
    }
   ],
   "source": [
    "# Define paths\n",
    "source = 'C:/Users/Kholoud/Desktop/jupyter notebook/SkinMate-Dataset-20240630T095515Z-001/SkinMate-Dataset'\n",
    "sourceAcnes = os.path.join(source, 'acnes')\n",
    "sourceBlackheads = os.path.join(source, 'blackheads')\n",
    "sourceDarkSpots = os.path.join(source, 'darkspots')\n",
    "sourceWrinkles = os.path.join(source, 'wrinkles')\n",
    "\n",
    "print(f\"There are {len(os.listdir(sourceAcnes))} images of acnes.\")\n",
    "print(f\"There are {len(os.listdir(sourceBlackheads))} images of blackheads.\")\n",
    "print(f\"There are {len(os.listdir(sourceDarkSpots))} images of darkspots.\")\n",
    "print(f\"There are {len(os.listdir(sourceWrinkles))} images of wrinkles.\")"
   ]
  },
  {
   "cell_type": "code",
   "execution_count": 4,
   "id": "f3924737-b659-4cd4-a864-7675e265e31a",
   "metadata": {},
   "outputs": [],
   "source": [
    "# Define directories\n",
    "root_dir = 'C:/Users/Kholoud/Desktop/jupyter notebook/SkinMateee'\n",
    "if os.path.exists(root_dir):\n",
    "    shutil.rmtree(root_dir)\n",
    "\n",
    "train_dir = os.path.join(root_dir, 'training')\n",
    "val_dir = os.path.join(root_dir, 'validation')\n",
    "os.makedirs(train_dir, exist_ok=True)\n",
    "os.makedirs(val_dir, exist_ok=True)"
   ]
  },
  {
   "cell_type": "code",
   "execution_count": 5,
   "id": "e591044d-d236-4d0d-9a92-67473db6442a",
   "metadata": {},
   "outputs": [],
   "source": [
    "# Create directories for each class\n",
    "classes = ['acnes', 'blackheads', 'darkspots', 'wrinkles']\n",
    "for cls in classes:\n",
    "    os.makedirs(os.path.join(train_dir, cls), exist_ok=True)\n",
    "    os.makedirs(os.path.join(val_dir, cls), exist_ok=True)"
   ]
  },
  {
   "cell_type": "code",
   "execution_count": 6,
   "id": "9339776a-e144-41eb-89a2-2bbf25d28f33",
   "metadata": {},
   "outputs": [],
   "source": [
    "# Function to split data\n",
    "def split_data(SOURCE_DIR, TRAINING_DIR, VALIDATION_DIR, SPLIT_SIZE):\n",
    "    files = [f for f in os.listdir(SOURCE_DIR) if os.path.getsize(os.path.join(SOURCE_DIR, f)) > 0]\n",
    "    train_size = int(len(files) * SPLIT_SIZE)\n",
    "    train_set = random.sample(files, train_size)\n",
    "    val_set = list(set(files) - set(train_set))\n",
    "    for f in train_set:\n",
    "        shutil.copy(os.path.join(SOURCE_DIR, f), os.path.join(TRAINING_DIR, f))\n",
    "    for f in val_set:\n",
    "        shutil.copy(os.path.join(SOURCE_DIR, f), os.path.join(VALIDATION_DIR, f))"
   ]
  },
  {
   "cell_type": "code",
   "execution_count": 7,
   "id": "59cfb28d-ae49-4751-be28-c77e914a80e7",
   "metadata": {},
   "outputs": [],
   "source": [
    "# Split data\n",
    "split_size = 0.8\n",
    "for cls in classes:\n",
    "    split_data(os.path.join(source, cls), os.path.join(train_dir, cls), os.path.join(val_dir, cls), split_size)\n"
   ]
  },
  {
   "cell_type": "code",
   "execution_count": 8,
   "id": "0a6f9678-3263-4a21-a890-2449e8203560",
   "metadata": {},
   "outputs": [],
   "source": [
    "# Load images and labels\n",
    "def load_images_from_folder(folder, label):\n",
    "    images = []\n",
    "    labels = []\n",
    "    for filename in os.listdir(folder):\n",
    "        img = load_img(os.path.join(folder, filename), target_size=(150, 150))\n",
    "        img = img_to_array(img)\n",
    "        img = img.flatten()\n",
    "        images.append(img)\n",
    "        labels.append(label)\n",
    "    return np.array(images), np.array(labels)"
   ]
  },
  {
   "cell_type": "code",
   "execution_count": 9,
   "id": "f53672f6-5a50-4820-8375-b2e203e318e8",
   "metadata": {},
   "outputs": [],
   "source": [
    "# Prepare data\n",
    "X_train, y_train = [], []\n",
    "X_val, y_val = [], []\n",
    "for idx, cls in enumerate(classes):\n",
    "    X, y = load_images_from_folder(os.path.join(train_dir, cls), idx)\n",
    "    X_train.append(X)\n",
    "    y_train.append(y)\n",
    "    X, y = load_images_from_folder(os.path.join(val_dir, cls), idx)\n",
    "    X_val.append(X)\n",
    "    y_val.append(y)\n",
    "\n",
    "X_train = np.vstack(X_train)\n",
    "y_train = np.hstack(y_train)\n",
    "X_val = np.vstack(X_val)\n",
    "y_val = np.hstack(y_val)"
   ]
  },
  {
   "cell_type": "code",
   "execution_count": 10,
   "id": "a18ee35e-f591-4992-b0ab-953d08474296",
   "metadata": {},
   "outputs": [],
   "source": [
    "# Normalize data\n",
    "scaler = StandardScaler()\n",
    "X_train = scaler.fit_transform(X_train)\n",
    "X_val = scaler.transform(X_val)"
   ]
  },
  {
   "cell_type": "code",
   "execution_count": 11,
   "id": "8ce7ce8b-1a3c-4466-9088-fddebffb0629",
   "metadata": {},
   "outputs": [
    {
     "data": {
      "text/html": [
       "<style>#sk-container-id-1 {color: black;}#sk-container-id-1 pre{padding: 0;}#sk-container-id-1 div.sk-toggleable {background-color: white;}#sk-container-id-1 label.sk-toggleable__label {cursor: pointer;display: block;width: 100%;margin-bottom: 0;padding: 0.3em;box-sizing: border-box;text-align: center;}#sk-container-id-1 label.sk-toggleable__label-arrow:before {content: \"▸\";float: left;margin-right: 0.25em;color: #696969;}#sk-container-id-1 label.sk-toggleable__label-arrow:hover:before {color: black;}#sk-container-id-1 div.sk-estimator:hover label.sk-toggleable__label-arrow:before {color: black;}#sk-container-id-1 div.sk-toggleable__content {max-height: 0;max-width: 0;overflow: hidden;text-align: left;background-color: #f0f8ff;}#sk-container-id-1 div.sk-toggleable__content pre {margin: 0.2em;color: black;border-radius: 0.25em;background-color: #f0f8ff;}#sk-container-id-1 input.sk-toggleable__control:checked~div.sk-toggleable__content {max-height: 200px;max-width: 100%;overflow: auto;}#sk-container-id-1 input.sk-toggleable__control:checked~label.sk-toggleable__label-arrow:before {content: \"▾\";}#sk-container-id-1 div.sk-estimator input.sk-toggleable__control:checked~label.sk-toggleable__label {background-color: #d4ebff;}#sk-container-id-1 div.sk-label input.sk-toggleable__control:checked~label.sk-toggleable__label {background-color: #d4ebff;}#sk-container-id-1 input.sk-hidden--visually {border: 0;clip: rect(1px 1px 1px 1px);clip: rect(1px, 1px, 1px, 1px);height: 1px;margin: -1px;overflow: hidden;padding: 0;position: absolute;width: 1px;}#sk-container-id-1 div.sk-estimator {font-family: monospace;background-color: #f0f8ff;border: 1px dotted black;border-radius: 0.25em;box-sizing: border-box;margin-bottom: 0.5em;}#sk-container-id-1 div.sk-estimator:hover {background-color: #d4ebff;}#sk-container-id-1 div.sk-parallel-item::after {content: \"\";width: 100%;border-bottom: 1px solid gray;flex-grow: 1;}#sk-container-id-1 div.sk-label:hover label.sk-toggleable__label {background-color: #d4ebff;}#sk-container-id-1 div.sk-serial::before {content: \"\";position: absolute;border-left: 1px solid gray;box-sizing: border-box;top: 0;bottom: 0;left: 50%;z-index: 0;}#sk-container-id-1 div.sk-serial {display: flex;flex-direction: column;align-items: center;background-color: white;padding-right: 0.2em;padding-left: 0.2em;position: relative;}#sk-container-id-1 div.sk-item {position: relative;z-index: 1;}#sk-container-id-1 div.sk-parallel {display: flex;align-items: stretch;justify-content: center;background-color: white;position: relative;}#sk-container-id-1 div.sk-item::before, #sk-container-id-1 div.sk-parallel-item::before {content: \"\";position: absolute;border-left: 1px solid gray;box-sizing: border-box;top: 0;bottom: 0;left: 50%;z-index: -1;}#sk-container-id-1 div.sk-parallel-item {display: flex;flex-direction: column;z-index: 1;position: relative;background-color: white;}#sk-container-id-1 div.sk-parallel-item:first-child::after {align-self: flex-end;width: 50%;}#sk-container-id-1 div.sk-parallel-item:last-child::after {align-self: flex-start;width: 50%;}#sk-container-id-1 div.sk-parallel-item:only-child::after {width: 0;}#sk-container-id-1 div.sk-dashed-wrapped {border: 1px dashed gray;margin: 0 0.4em 0.5em 0.4em;box-sizing: border-box;padding-bottom: 0.4em;background-color: white;}#sk-container-id-1 div.sk-label label {font-family: monospace;font-weight: bold;display: inline-block;line-height: 1.2em;}#sk-container-id-1 div.sk-label-container {text-align: center;}#sk-container-id-1 div.sk-container {/* jupyter's `normalize.less` sets `[hidden] { display: none; }` but bootstrap.min.css set `[hidden] { display: none !important; }` so we also need the `!important` here to be able to override the default hidden behavior on the sphinx rendered scikit-learn.org. See: https://github.com/scikit-learn/scikit-learn/issues/21755 */display: inline-block !important;position: relative;}#sk-container-id-1 div.sk-text-repr-fallback {display: none;}</style><div id=\"sk-container-id-1\" class=\"sk-top-container\"><div class=\"sk-text-repr-fallback\"><pre>SVC(kernel=&#x27;linear&#x27;, probability=True)</pre><b>In a Jupyter environment, please rerun this cell to show the HTML representation or trust the notebook. <br />On GitHub, the HTML representation is unable to render, please try loading this page with nbviewer.org.</b></div><div class=\"sk-container\" hidden><div class=\"sk-item\"><div class=\"sk-estimator sk-toggleable\"><input class=\"sk-toggleable__control sk-hidden--visually\" id=\"sk-estimator-id-1\" type=\"checkbox\" checked><label for=\"sk-estimator-id-1\" class=\"sk-toggleable__label sk-toggleable__label-arrow\">SVC</label><div class=\"sk-toggleable__content\"><pre>SVC(kernel=&#x27;linear&#x27;, probability=True)</pre></div></div></div></div></div>"
      ],
      "text/plain": [
       "SVC(kernel='linear', probability=True)"
      ]
     },
     "execution_count": 11,
     "metadata": {},
     "output_type": "execute_result"
    }
   ],
   "source": [
    "# Train SVM model\n",
    "model = svm.SVC(kernel='linear', probability=True)\n",
    "model.fit(X_train, y_train)"
   ]
  },
  {
   "cell_type": "code",
   "execution_count": 12,
   "id": "c8384608-e7f7-4e92-8949-e50ce961abe2",
   "metadata": {},
   "outputs": [
    {
     "name": "stdout",
     "output_type": "stream",
     "text": [
      "Validation Accuracy: 0.905\n",
      "              precision    recall  f1-score   support\n",
      "\n",
      "       acnes       1.00      1.00      1.00        50\n",
      "  blackheads       0.91      1.00      0.95        50\n",
      "   darkspots       0.83      0.86      0.84        50\n",
      "    wrinkles       0.88      0.76      0.82        50\n",
      "\n",
      "    accuracy                           0.91       200\n",
      "   macro avg       0.90      0.91      0.90       200\n",
      "weighted avg       0.90      0.91      0.90       200\n",
      "\n"
     ]
    }
   ],
   "source": [
    "# Evaluate model\n",
    "y_pred = model.predict(X_val)\n",
    "print(f\"Validation Accuracy: {accuracy_score(y_val, y_pred)}\")\n",
    "print(classification_report(y_val, y_pred, target_names=classes))"
   ]
  },
  {
   "cell_type": "code",
   "execution_count": 13,
   "id": "e55cd281-fc4f-448b-9ec6-de96e3b3e512",
   "metadata": {},
   "outputs": [
    {
     "data": {
      "image/png": "[encoded data removed]",
      "text/plain": [
       "<Figure size 640x480 with 2 Axes>"
      ]
     },
     "metadata": {},
     "output_type": "display_data"
    }
   ],
   "source": [
    "# Plot confusion matrix\n",
    "from sklearn.metrics import ConfusionMatrixDisplay\n",
    "ConfusionMatrixDisplay.from_estimator(model, X_val, y_val, display_labels=classes, cmap=plt.cm.Blues)\n",
    "plt.show()"
   ]
  },
  {
   "cell_type": "code",
   "execution_count": 38,
   "id": "bb6bb35a-2799-43f6-a2ae-ca13e98e4876",
   "metadata": {},
   "outputs": [
    {
     "data": {
      "text/plain": [
       "['scaler.pkl']"
      ]
     },
     "execution_count": 38,
     "metadata": {},
     "output_type": "execute_result"
    }
   ],
   "source": [
    "# Save the model\n",
    "import joblib\n",
    "joblib.dump(model, \"svm_skinmate_model.pkl\")\n",
    "joblib.dump(scaler, \"scaler.pkl\")"
   ]
  },
  {
   "cell_type": "code",
   "execution_count": 26,
   "id": "88a60f0f-c9d7-4b17-b4d4-61f2ddc39375",
   "metadata": {},
   "outputs": [],
   "source": [
    "# Load and predict new image\n",
    "def predict_image(filepath, model, scaler):\n",
    "    img = load_img(filepath, target_size=(150, 150))\n",
    "    img = img_to_array(img)\n",
    "    img = img.flatten()\n",
    "    img = scaler.transform([img])\n",
    "    prediction = model.predict(img)\n",
    "    return classes[prediction[0]]"
   ]
  },
  {
   "cell_type": "code",
   "execution_count": 31,
   "id": "8b7058a6-3e73-4f22-9e1f-1320d356d473",
   "metadata": {},
   "outputs": [
    {
     "name": "stdout",
     "output_type": "stream",
     "text": [
      "blackheads\n"
     ]
    }
   ],
   "source": [
    "# Example usage\n",
    "print(predict_image(\"C:/Users/Kholoud/Downloads/WhatsApp Image 2024-07-08 at 3.23.15 PM (2).jpeg\", model, scaler))"
   ]
  },
  {
   "cell_type": "code",
   "execution_count": 32,
   "id": "28ece403-5924-4772-bf5b-415d570d72e0",
   "metadata": {},
   "outputs": [],
   "source": [
    "# Load and predict new image with probabilities\n",
    "def predict_image_with_probabilities(filepath, model, scaler):\n",
    "    img = load_img(filepath, target_size=(150, 150))\n",
    "    img = img_to_array(img)\n",
    "    img = img.flatten()\n",
    "    img = scaler.transform([img])\n",
    "    probabilities = model.predict_proba(img)[0]  # Get the probabilities for each class\n",
    "    return probabilities"
   ]
  },
  {
   "cell_type": "code",
   "execution_count": 33,
   "id": "5395ac37-c6cd-434e-a81e-4de72d0e383e",
   "metadata": {},
   "outputs": [],
   "source": [
    "# Example usage\n",
    "probabilities = predict_image_with_probabilities(\"C:/Users/Kholoud/Downloads/WhatsApp Image 2024-07-08 at 3.23.15 PM (2).jpeg\", model, scaler)\n"
   ]
  },
  {
   "cell_type": "code",
   "execution_count": 34,
   "id": "48916e5b-e77e-45c8-a5a3-e10645e7fd96",
   "metadata": {},
   "outputs": [
    {
     "name": "stdout",
     "output_type": "stream",
     "text": [
      "acnes: 1.75%\n",
      "blackheads: 28.45%\n",
      "darkspots: 22.45%\n",
      "wrinkles: 47.36%\n"
     ]
    }
   ],
   "source": [
    "# Print the probabilities for each class\n",
    "for cls, prob in zip(classes, probabilities):\n",
    "    print(f\"{cls}: {prob * 100:.2f}%\")"
   ]
  },
  {
   "cell_type": "code",
   "execution_count": 37,
   "id": "94ef8b65-8c3d-4bff-b5b1-1addb695f7fb",
   "metadata": {},
   "outputs": [
    {
     "name": "stdout",
     "output_type": "stream",
     "text": [
      "Model saved to svc_model.h5\n"
     ]
    }
   ],
   "source": [
    "import h5py\n",
    "import pickle\n",
    "\n",
    "# Save the model to an HDF5 file\n",
    "with h5py.File('svc_modelllll.h5', 'w') as f:\n",
    "    # Save the model parameters\n",
    "    model_params = pickle.dumps(model)\n",
    "    f.create_dataset('model_params', data=np.void(model_params))\n",
    "\n",
    "print(\"Model saved to svc_model.h5\")"
   ]
  },
  {
   "cell_type": "code",
   "execution_count": null,
   "id": "2e33cf22-b6b3-4d1f-8b83-088af623330a",
   "metadata": {},
   "outputs": [],
   "source": []
  }
 ],
 "metadata": {
  "kernelspec": {
   "display_name": "Python 3 (ipykernel)",
   "language": "python",
   "name": "python3"
  },
  "language_info": {
   "codemirror_mode": {
    "name": "ipython",
    "version": 3
   },
   "file_extension": ".py",
   "mimetype": "text/x-python",
   "name": "python",
   "nbconvert_exporter": "python",
   "pygments_lexer": "ipython3",
   "version": "3.10.4"
  }
 },
 "nbformat": 4,
 "nbformat_minor": 5
}
